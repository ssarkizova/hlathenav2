{
 "cells": [
  {
   "cell_type": "markdown",
   "id": "2f2d49f2-f2cd-4893-af63-13a0b857534f",
   "metadata": {},
   "source": [
    "# HLAthena\n",
    "### A Python package for HLA class I peptide analysis, binding prediction, and model training\n",
    "\n",
    "## Installation\n",
    "\n",
    "To install hlathena run: \n",
    "\n",
    "    git clone https://github.com/ssarkizova/hlathenav2\n",
    "    cd hlathenav2\n",
    "    pip install .\n",
    "\n",
    "## Usage\n",
    "\n",
    "#### Importing the package"
   ]
  },
  {
   "cell_type": "code",
   "execution_count": 1,
   "id": "c57649fa-963e-40b4-8487-f1094daddf1a",
   "metadata": {
    "tags": []
   },
   "outputs": [],
   "source": [
    "import hlathena as ht "
   ]
  },
  {
   "cell_type": "markdown",
   "id": "7de95b52-5937-4d3d-aa58-f17d83dd6e68",
   "metadata": {},
   "source": [
    "Next, we'll import some example data"
   ]
  },
  {
   "cell_type": "code",
   "execution_count": 2,
   "id": "a35906ab-934e-4f64-bd7e-690f7dee7b09",
   "metadata": {
    "tags": []
   },
   "outputs": [],
   "source": [
    "import pandas as pd\n",
    "sample_pep_file = \"A0101_filtered.txt\"\n",
    "df = pd.read_table(sample_pep_file)\n",
    "peptides = list(df['seq'])"
   ]
  },
  {
   "cell_type": "markdown",
   "id": "2a342055-f78d-4167-a698-a4c419ee404f",
   "metadata": {},
   "source": [
    "### Peptide analysis\n",
    "\n",
    "First, we'll plot the length distribution of the peptide set."
   ]
  },
  {
   "cell_type": "code",
   "execution_count": 3,
   "id": "7a2d6c65-f5c8-4748-bd7b-f7570631d772",
   "metadata": {
    "tags": []
   },
   "outputs": [],
   "source": [
    "ht.plot_length(peptides)"
   ]
  },
  {
   "cell_type": "markdown",
   "id": "8437fff6-faa0-4643-a7ef-011e6ee0a939",
   "metadata": {},
   "source": [
    "Next, we'll visualize the amino acid motifs of this peptide set"
   ]
  },
  {
   "cell_type": "code",
   "execution_count": 4,
   "id": "0a40f17b-1aae-4eda-a035-30f8db6c0b05",
   "metadata": {
    "tags": []
   },
   "outputs": [],
   "source": [
    "ht.plot_logo(peptides)"
   ]
  },
  {
   "cell_type": "markdown",
   "id": "da23e63e-4d7a-4f1c-84dd-33cd8af876b4",
   "metadata": {},
   "source": [
    "Let's examine the 9mer's motif more closely"
   ]
  },
  {
   "cell_type": "code",
   "execution_count": 5,
   "id": "5bab1458-0a36-4ce4-b4fa-a6dd0aa32f4a",
   "metadata": {
    "tags": []
   },
   "outputs": [],
   "source": [
    "ht.plot_logo(peptides, 9)"
   ]
  },
  {
   "cell_type": "markdown",
   "id": "8d01d648-5485-45a1-a3f5-0cdb2c3ea2aa",
   "metadata": {
    "tags": []
   },
   "source": [
    "Next, we want to cluster these peptides with a UMAP. First, we'll neeed to do some dimensionality reduction using the peptide projection module.\n",
    "\n",
    "We will specify that we want to use Kidera Factors for the amino acid encoding by providing a file path. Additional files with amino acid encodings can be included (they must be tab-delimited txt files with one row per amino acid symbol and 1+ columns). \n",
    "\n",
    "We will also save this encoding in case we want to re-use it later."
   ]
  },
  {
   "cell_type": "code",
   "execution_count": 6,
   "id": "1b5021d5-913a-4060-8457-06207b747e05",
   "metadata": {
    "tags": []
   },
   "outputs": [],
   "source": [
    "feature_matrix = ht.PCA_encode(peptides, 'A0101', 9, aa_featurefiles=['kideraFactors.txt'], save_PCA_path='pca_encoding.npz')"
   ]
  },
  {
   "cell_type": "markdown",
   "id": "26881688-b1d7-456e-92a8-80bc9df80d95",
   "metadata": {
    "tags": []
   },
   "source": [
    "Now we can make a simple UMAP plot:"
   ]
  },
  {
   "cell_type": "code",
   "execution_count": 7,
   "id": "d2ff17e7-9ee6-4fab-88e5-17631e34d725",
   "metadata": {
    "tags": []
   },
   "outputs": [],
   "source": [
    "ht.plot_umap(feature_matrix, title='A0101 9-mers')"
   ]
  },
  {
   "cell_type": "markdown",
   "id": "229143b2-7db9-452f-a028-1529710bc765",
   "metadata": {},
   "source": [
    "### Annotate peptide set"
   ]
  },
  {
   "cell_type": "code",
   "execution_count": 8,
   "id": "11042213-6804-4eb5-bfb0-7d24f55fe39d",
   "metadata": {
    "tags": []
   },
   "outputs": [
    {
     "data": {
      "text/html": [
       "<div>\n",
       "<style scoped>\n",
       "    .dataframe tbody tr th:only-of-type {\n",
       "        vertical-align: middle;\n",
       "    }\n",
       "\n",
       "    .dataframe tbody tr th {\n",
       "        vertical-align: top;\n",
       "    }\n",
       "\n",
       "    .dataframe thead th {\n",
       "        text-align: right;\n",
       "    }\n",
       "</style>\n",
       "<table border=\"1\" class=\"dataframe\">\n",
       "  <thead>\n",
       "    <tr style=\"text-align: right;\">\n",
       "      <th></th>\n",
       "      <th>seq</th>\n",
       "      <th>Hugo_Symbol</th>\n",
       "      <th>ctex_up</th>\n",
       "      <th>ctex_dn</th>\n",
       "    </tr>\n",
       "  </thead>\n",
       "  <tbody>\n",
       "    <tr>\n",
       "      <th>0</th>\n",
       "      <td>YLETVAAYY</td>\n",
       "      <td>IL32</td>\n",
       "      <td>PKVLSDDMKKLKARMVMSSLAELEDDFKEG</td>\n",
       "      <td>EEQHPELTPLLEKERDGLRCRGNRSPVPD-</td>\n",
       "    </tr>\n",
       "    <tr>\n",
       "      <th>1</th>\n",
       "      <td>LTEFKFIWY</td>\n",
       "      <td>COX15</td>\n",
       "      <td>KPPTSQEEWEAEFQRYQQFPEFKILNHDMT</td>\n",
       "      <td>MEYSHRMWGRLVGLVYILPAAYFWRKGWL-</td>\n",
       "    </tr>\n",
       "    <tr>\n",
       "      <th>2</th>\n",
       "      <td>LSELAALCY</td>\n",
       "      <td>RGPD5</td>\n",
       "      <td>FLEMKGHFYMYAGSLLLKMGQHGNNVQWRA</td>\n",
       "      <td>LIAFQVPRPKIKLREGKAGQNLLEMMACD-</td>\n",
       "    </tr>\n",
       "    <tr>\n",
       "      <th>3</th>\n",
       "      <td>KLDDLHTLY</td>\n",
       "      <td>GOPC</td>\n",
       "      <td>QGFNKKAVTDTHENGDLGTASETPLDDGAS</td>\n",
       "      <td>HKKSY-------------------------</td>\n",
       "    </tr>\n",
       "    <tr>\n",
       "      <th>4</th>\n",
       "      <td>LAEEITLHY</td>\n",
       "      <td>PPP1R3F</td>\n",
       "      <td>GMSPSHPLGILTDRDLILKWPGPERALNSA</td>\n",
       "      <td>ARLGRGVELIKDTEDPDDEGEGEEGLSVT-</td>\n",
       "    </tr>\n",
       "  </tbody>\n",
       "</table>\n",
       "</div>"
      ],
      "text/plain": [
       "         seq Hugo_Symbol                         ctex_up  \\\n",
       "0  YLETVAAYY        IL32  PKVLSDDMKKLKARMVMSSLAELEDDFKEG   \n",
       "1  LTEFKFIWY       COX15  KPPTSQEEWEAEFQRYQQFPEFKILNHDMT   \n",
       "2  LSELAALCY       RGPD5  FLEMKGHFYMYAGSLLLKMGQHGNNVQWRA   \n",
       "3  KLDDLHTLY        GOPC  QGFNKKAVTDTHENGDLGTASETPLDDGAS   \n",
       "4  LAEEITLHY     PPP1R3F  GMSPSHPLGILTDRDLILKWPGPERALNSA   \n",
       "\n",
       "                          ctex_dn  \n",
       "0  EEQHPELTPLLEKERDGLRCRGNRSPVPD-  \n",
       "1  MEYSHRMWGRLVGLVYILPAAYFWRKGWL-  \n",
       "2  LIAFQVPRPKIKLREGKAGQNLLEMMACD-  \n",
       "3  HKKSY-------------------------  \n",
       "4  ARLGRGVELIKDTEDPDDEGEGEEGLSVT-  "
      ]
     },
     "execution_count": 8,
     "metadata": {},
     "output_type": "execute_result"
    }
   ],
   "source": [
    "pep_df = pd.DataFrame(peptides, columns=['seq'])\n",
    "annotated_peptides = ht.PeptideDataset(pep_df, peplen=9).get_reference_gene_ids(add_context=True)\n",
    "annotated_peptides.head()"
   ]
  },
  {
   "cell_type": "markdown",
   "id": "f938e825-b2ca-46c2-8f6d-633106fd82a0",
   "metadata": {},
   "source": [
    "Next, we will annotate with TCGA reference data. In order to determine which options are available and/or the TCGA cancer type abbreviation, we call the ```list_expression_references()``` function. In this case, we will annotate with reference breast cancer expression data. "
   ]
  },
  {
   "cell_type": "code",
   "execution_count": 12,
   "id": "55c5094f-c46c-423b-8683-2131df22ceac",
   "metadata": {},
   "outputs": [
    {
     "data": {
      "text/html": [
       "<div>\n",
       "<style scoped>\n",
       "    .dataframe tbody tr th:only-of-type {\n",
       "        vertical-align: middle;\n",
       "    }\n",
       "\n",
       "    .dataframe tbody tr th {\n",
       "        vertical-align: top;\n",
       "    }\n",
       "\n",
       "    .dataframe thead th {\n",
       "        text-align: right;\n",
       "    }\n",
       "</style>\n",
       "<table border=\"1\" class=\"dataframe\">\n",
       "  <thead>\n",
       "    <tr style=\"text-align: right;\">\n",
       "      <th></th>\n",
       "      <th>Study Name</th>\n",
       "    </tr>\n",
       "    <tr>\n",
       "      <th>Study Abbreviation</th>\n",
       "      <th></th>\n",
       "    </tr>\n",
       "  </thead>\n",
       "  <tbody>\n",
       "    <tr>\n",
       "      <th>LAML</th>\n",
       "      <td>Acute Myeloid Leukemia</td>\n",
       "    </tr>\n",
       "    <tr>\n",
       "      <th>ACC</th>\n",
       "      <td>Adrenocortical carcinoma</td>\n",
       "    </tr>\n",
       "    <tr>\n",
       "      <th>BLCA</th>\n",
       "      <td>Bladder Urothelial Carcinoma</td>\n",
       "    </tr>\n",
       "    <tr>\n",
       "      <th>LGG</th>\n",
       "      <td>Brain Lower Grade Glioma</td>\n",
       "    </tr>\n",
       "    <tr>\n",
       "      <th>BRCA</th>\n",
       "      <td>Breast invasive carcinoma</td>\n",
       "    </tr>\n",
       "  </tbody>\n",
       "</table>\n",
       "</div>"
      ],
      "text/plain": [
       "                                      Study Name\n",
       "Study Abbreviation                              \n",
       "LAML                      Acute Myeloid Leukemia\n",
       "ACC                     Adrenocortical carcinoma\n",
       "BLCA                Bladder Urothelial Carcinoma\n",
       "LGG                     Brain Lower Grade Glioma\n",
       "BRCA                   Breast invasive carcinoma"
      ]
     },
     "execution_count": 12,
     "metadata": {},
     "output_type": "execute_result"
    }
   ],
   "source": [
    "ht.list_expression_references().head()"
   ]
  },
  {
   "cell_type": "markdown",
   "id": "dfbd8729-beee-443c-b173-61edf5a50335",
   "metadata": {},
   "source": [
    " We find the relevant TCGA abbreviation and call ```add_tcga_expression```."
   ]
  },
  {
   "cell_type": "code",
   "execution_count": 10,
   "id": "9137a4b8-23d4-4c70-9045-6a4876429b8e",
   "metadata": {
    "tags": []
   },
   "outputs": [
    {
     "data": {
      "text/html": [
       "<div>\n",
       "<style scoped>\n",
       "    .dataframe tbody tr th:only-of-type {\n",
       "        vertical-align: middle;\n",
       "    }\n",
       "\n",
       "    .dataframe tbody tr th {\n",
       "        vertical-align: top;\n",
       "    }\n",
       "\n",
       "    .dataframe thead th {\n",
       "        text-align: right;\n",
       "    }\n",
       "</style>\n",
       "<table border=\"1\" class=\"dataframe\">\n",
       "  <thead>\n",
       "    <tr style=\"text-align: right;\">\n",
       "      <th></th>\n",
       "      <th>seq</th>\n",
       "      <th>Hugo_Symbol</th>\n",
       "      <th>ctex_up</th>\n",
       "      <th>ctex_dn</th>\n",
       "      <th>BRCA_TPM</th>\n",
       "    </tr>\n",
       "  </thead>\n",
       "  <tbody>\n",
       "    <tr>\n",
       "      <th>0</th>\n",
       "      <td>YLETVAAYY</td>\n",
       "      <td>IL32</td>\n",
       "      <td>PKVLSDDMKKLKARMVMSSLAELEDDFKEG</td>\n",
       "      <td>EEQHPELTPLLEKERDGLRCRGNRSPVPD-</td>\n",
       "      <td>90.279</td>\n",
       "    </tr>\n",
       "    <tr>\n",
       "      <th>1</th>\n",
       "      <td>YLETVAAYY</td>\n",
       "      <td>IL32</td>\n",
       "      <td>RFYDKMQNAESGRGQVMSSLAELEDDFKEG</td>\n",
       "      <td>EEQHPELTPLLEKERDGLRCRGNRSPVPD-</td>\n",
       "      <td>90.279</td>\n",
       "    </tr>\n",
       "    <tr>\n",
       "      <th>2</th>\n",
       "      <td>YLETVAAYY</td>\n",
       "      <td>IL32</td>\n",
       "      <td>KARMHQAIERFYDKMQNAESGRGQDDFKEG</td>\n",
       "      <td>EEQHPELTPLLEKERDGLRCRGNRSPVPD-</td>\n",
       "      <td>90.279</td>\n",
       "    </tr>\n",
       "    <tr>\n",
       "      <th>3</th>\n",
       "      <td>YLETVAAYY</td>\n",
       "      <td>IL32</td>\n",
       "      <td>------MCFPKVLSDDMKKLKARMDDFKEG</td>\n",
       "      <td>EEQHPELTPLLEKERDGLRCRGNRSPVPD-</td>\n",
       "      <td>90.279</td>\n",
       "    </tr>\n",
       "    <tr>\n",
       "      <th>4</th>\n",
       "      <td>YLETVAAYY</td>\n",
       "      <td>IL32</td>\n",
       "      <td>LSSQHQAIERFYDKMQNAESGRGQDDFKEG</td>\n",
       "      <td>EEQHPELTPLLEKERDGLRCRGNRSPVPD-</td>\n",
       "      <td>90.279</td>\n",
       "    </tr>\n",
       "    <tr>\n",
       "      <th>...</th>\n",
       "      <td>...</td>\n",
       "      <td>...</td>\n",
       "      <td>...</td>\n",
       "      <td>...</td>\n",
       "      <td>...</td>\n",
       "    </tr>\n",
       "    <tr>\n",
       "      <th>731</th>\n",
       "      <td>ETEPVFWYY</td>\n",
       "      <td>SNX29</td>\n",
       "      <td>AVLQHGLKRSRGLALTAAAIKQAAGFASKT</td>\n",
       "      <td>VKEVLNKHELQRFYSLRHIASDVGRGRAW-</td>\n",
       "      <td>17.789</td>\n",
       "    </tr>\n",
       "    <tr>\n",
       "      <th>732</th>\n",
       "      <td>RTDPIPIVV</td>\n",
       "      <td>GPATCH8</td>\n",
       "      <td>DRDFQDNIGHRLLQKHGWKLGQGLGKSLQG</td>\n",
       "      <td>KYDVMGMGRMEMELDYAEDATERRRVLEV-</td>\n",
       "      <td>24.838</td>\n",
       "    </tr>\n",
       "    <tr>\n",
       "      <th>733</th>\n",
       "      <td>RTDPIPIVV</td>\n",
       "      <td>GPATCH8</td>\n",
       "      <td>KPIESDNIGHRLLQKHGWKLGQGLGKSLQG</td>\n",
       "      <td>KYDVMGMGRMEMELDYAEDATERRRVLEV-</td>\n",
       "      <td>24.838</td>\n",
       "    </tr>\n",
       "    <tr>\n",
       "      <th>734</th>\n",
       "      <td>MTEKFLFLY</td>\n",
       "      <td>ERVV-2</td>\n",
       "      <td>------------------------------</td>\n",
       "      <td>LSLLPMPLLSQAQWNENSLVSFSKIIASG-</td>\n",
       "      <td>1.000</td>\n",
       "    </tr>\n",
       "    <tr>\n",
       "      <th>735</th>\n",
       "      <td>MTEKFLFLY</td>\n",
       "      <td>ERVV-1</td>\n",
       "      <td>------------------------------</td>\n",
       "      <td>LSLLPMPLLSQAQWNENSLVSFSKIIASG-</td>\n",
       "      <td>1.000</td>\n",
       "    </tr>\n",
       "  </tbody>\n",
       "</table>\n",
       "<p>736 rows × 5 columns</p>\n",
       "</div>"
      ],
      "text/plain": [
       "           seq Hugo_Symbol                         ctex_up  \\\n",
       "0    YLETVAAYY        IL32  PKVLSDDMKKLKARMVMSSLAELEDDFKEG   \n",
       "1    YLETVAAYY        IL32  RFYDKMQNAESGRGQVMSSLAELEDDFKEG   \n",
       "2    YLETVAAYY        IL32  KARMHQAIERFYDKMQNAESGRGQDDFKEG   \n",
       "3    YLETVAAYY        IL32  ------MCFPKVLSDDMKKLKARMDDFKEG   \n",
       "4    YLETVAAYY        IL32  LSSQHQAIERFYDKMQNAESGRGQDDFKEG   \n",
       "..         ...         ...                             ...   \n",
       "731  ETEPVFWYY       SNX29  AVLQHGLKRSRGLALTAAAIKQAAGFASKT   \n",
       "732  RTDPIPIVV     GPATCH8  DRDFQDNIGHRLLQKHGWKLGQGLGKSLQG   \n",
       "733  RTDPIPIVV     GPATCH8  KPIESDNIGHRLLQKHGWKLGQGLGKSLQG   \n",
       "734  MTEKFLFLY      ERVV-2  ------------------------------   \n",
       "735  MTEKFLFLY      ERVV-1  ------------------------------   \n",
       "\n",
       "                            ctex_dn  BRCA_TPM  \n",
       "0    EEQHPELTPLLEKERDGLRCRGNRSPVPD-    90.279  \n",
       "1    EEQHPELTPLLEKERDGLRCRGNRSPVPD-    90.279  \n",
       "2    EEQHPELTPLLEKERDGLRCRGNRSPVPD-    90.279  \n",
       "3    EEQHPELTPLLEKERDGLRCRGNRSPVPD-    90.279  \n",
       "4    EEQHPELTPLLEKERDGLRCRGNRSPVPD-    90.279  \n",
       "..                              ...       ...  \n",
       "731  VKEVLNKHELQRFYSLRHIASDVGRGRAW-    17.789  \n",
       "732  KYDVMGMGRMEMELDYAEDATERRRVLEV-    24.838  \n",
       "733  KYDVMGMGRMEMELDYAEDATERRRVLEV-    24.838  \n",
       "734  LSLLPMPLLSQAQWNENSLVSFSKIIASG-     1.000  \n",
       "735  LSLLPMPLLSQAQWNENSLVSFSKIIASG-     1.000  \n",
       "\n",
       "[736 rows x 5 columns]"
      ]
     },
     "execution_count": 10,
     "metadata": {},
     "output_type": "execute_result"
    }
   ],
   "source": [
    "ht.add_tcga_expression(annotated_peptides, 'BRCA')"
   ]
  },
  {
   "cell_type": "markdown",
   "id": "2c2047d3-8f9a-46c4-8b2b-4c9798077d7a",
   "metadata": {},
   "source": [
    "### Peptide binding prediction"
   ]
  },
  {
   "cell_type": "code",
   "execution_count": 11,
   "id": "e56e9682-f2f1-4a7c-9942-2a57b0c13639",
   "metadata": {
    "tags": []
   },
   "outputs": [
    {
     "data": {
      "text/html": [
       "<div>\n",
       "<style scoped>\n",
       "    .dataframe tbody tr th:only-of-type {\n",
       "        vertical-align: middle;\n",
       "    }\n",
       "\n",
       "    .dataframe tbody tr th {\n",
       "        vertical-align: top;\n",
       "    }\n",
       "\n",
       "    .dataframe thead th {\n",
       "        text-align: right;\n",
       "    }\n",
       "</style>\n",
       "<table border=\"1\" class=\"dataframe\">\n",
       "  <thead>\n",
       "    <tr style=\"text-align: right;\">\n",
       "      <th></th>\n",
       "      <th>seq</th>\n",
       "      <th>score</th>\n",
       "    </tr>\n",
       "  </thead>\n",
       "  <tbody>\n",
       "    <tr>\n",
       "      <th>0</th>\n",
       "      <td>AADIFYSRY</td>\n",
       "      <td>3.5351861242816085e-06</td>\n",
       "    </tr>\n",
       "    <tr>\n",
       "      <th>1</th>\n",
       "      <td>AADLNLVLY</td>\n",
       "      <td>9.253963980881963e-06</td>\n",
       "    </tr>\n",
       "    <tr>\n",
       "      <th>2</th>\n",
       "      <td>AADLVEALY</td>\n",
       "      <td>9.627723329685978e-07</td>\n",
       "    </tr>\n",
       "    <tr>\n",
       "      <th>3</th>\n",
       "      <td>AIDEDVLRY</td>\n",
       "      <td>1.6805062841740437e-05</td>\n",
       "    </tr>\n",
       "    <tr>\n",
       "      <th>4</th>\n",
       "      <td>AIDLLKEIY</td>\n",
       "      <td>1.4991079524406814e-06</td>\n",
       "    </tr>\n",
       "    <tr>\n",
       "      <th>...</th>\n",
       "      <td>...</td>\n",
       "      <td>...</td>\n",
       "    </tr>\n",
       "    <tr>\n",
       "      <th>483</th>\n",
       "      <td>YTSDYFISY</td>\n",
       "      <td>0.0007096683839336038</td>\n",
       "    </tr>\n",
       "    <tr>\n",
       "      <th>484</th>\n",
       "      <td>YVDDVFLRV</td>\n",
       "      <td>0.953221321105957</td>\n",
       "    </tr>\n",
       "    <tr>\n",
       "      <th>485</th>\n",
       "      <td>YVDPQFLTY</td>\n",
       "      <td>9.512112592346966e-05</td>\n",
       "    </tr>\n",
       "    <tr>\n",
       "      <th>486</th>\n",
       "      <td>YVEKFALNY</td>\n",
       "      <td>1.3267753274703864e-05</td>\n",
       "    </tr>\n",
       "    <tr>\n",
       "      <th>487</th>\n",
       "      <td>YVPEHWEYY</td>\n",
       "      <td>0.20474937558174133</td>\n",
       "    </tr>\n",
       "  </tbody>\n",
       "</table>\n",
       "<p>488 rows × 2 columns</p>\n",
       "</div>"
      ],
      "text/plain": [
       "           seq                   score\n",
       "0    AADIFYSRY  3.5351861242816085e-06\n",
       "1    AADLNLVLY   9.253963980881963e-06\n",
       "2    AADLVEALY   9.627723329685978e-07\n",
       "3    AIDEDVLRY  1.6805062841740437e-05\n",
       "4    AIDLLKEIY  1.4991079524406814e-06\n",
       "..         ...                     ...\n",
       "483  YTSDYFISY   0.0007096683839336038\n",
       "484  YVDDVFLRV       0.953221321105957\n",
       "485  YVDPQFLTY   9.512112592346966e-05\n",
       "486  YVEKFALNY  1.3267753274703864e-05\n",
       "487  YVPEHWEYY     0.20474937558174133\n",
       "\n",
       "[488 rows x 2 columns]"
      ]
     },
     "execution_count": 11,
     "metadata": {},
     "output_type": "execute_result"
    }
   ],
   "source": [
    "model_path = '../models/NN-time2022-12-16_10-fold0.pt'\n",
    "\n",
    "ninemers = [pep for pep in peptides if len(pep)==9] # create list of ninemers \n",
    "ht.predict(model_path, ninemers)"
   ]
  },
  {
   "cell_type": "code",
   "execution_count": null,
   "id": "2f4d69ac-b14e-4c7b-989e-3d8c7e41a4eb",
   "metadata": {},
   "outputs": [],
   "source": []
  }
 ],
 "metadata": {
  "kernelspec": {
   "display_name": "Python 3 (ipykernel)",
   "language": "python",
   "name": "python3"
  },
  "language_info": {
   "codemirror_mode": {
    "name": "ipython",
    "version": 3
   },
   "file_extension": ".py",
   "mimetype": "text/x-python",
   "name": "python",
   "nbconvert_exporter": "python",
   "pygments_lexer": "ipython3",
   "version": "3.7.4"
  }
 },
 "nbformat": 4,
 "nbformat_minor": 5
}

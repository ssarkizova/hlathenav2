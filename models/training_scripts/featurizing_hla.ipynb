{
 "cells": [
  {
   "cell_type": "code",
   "execution_count": 1,
   "id": "0a6f5d0c-1852-4908-8beb-934ac98c7fca",
   "metadata": {
    "tags": [],
    "ExecuteTime": {
     "end_time": "2024-01-24T00:03:57.686452Z",
     "start_time": "2024-01-24T00:03:50.017772Z"
    }
   },
   "outputs": [],
   "source": [
    "import pandas as pd"
   ]
  },
  {
   "cell_type": "code",
   "execution_count": 2,
   "id": "7c5e9b5d-a073-440e-8fdd-882c742afac3",
   "metadata": {
    "tags": []
   },
   "outputs": [],
   "source": [
    "def clean_known_allele_names(alleles_df):\n",
    "    replacements = ['\\*','HLA[-|*]',':']\n",
    "    alleles_df['allele'] = alleles_df['allele'].replace(replacements,\"\",regex=True)\n",
    "    return alleles_df"
   ]
  },
  {
   "cell_type": "code",
   "execution_count": 4,
   "id": "1acaf9ff-8a4d-4f82-a906-685e32d5538e",
   "metadata": {
    "tags": [],
    "ExecuteTime": {
     "end_time": "2024-01-24T00:04:45.143601Z",
     "start_time": "2024-01-24T00:04:45.000206Z"
    }
   },
   "outputs": [
    {
     "ename": "FileNotFoundError",
     "evalue": "[Errno 2] No such file or directory: 'out/ABC_prot.aligned.182.txt'",
     "output_type": "error",
     "traceback": [
      "\u001B[0;31m---------------------------------------------------------------------------\u001B[0m",
      "\u001B[0;31mFileNotFoundError\u001B[0m                         Traceback (most recent call last)",
      "\u001B[0;32m/var/folders/2_/m2j1vfpd7r367lw9w_n7jlnc0000gn/T/ipykernel_40002/3932141353.py\u001B[0m in \u001B[0;36m<module>\u001B[0;34m\u001B[0m\n\u001B[0;32m----> 1\u001B[0;31m \u001B[0mdf\u001B[0m\u001B[0;34m=\u001B[0m\u001B[0mpd\u001B[0m\u001B[0;34m.\u001B[0m\u001B[0mread_table\u001B[0m\u001B[0;34m(\u001B[0m\u001B[0;34m'out/ABC_prot.aligned.182.txt'\u001B[0m\u001B[0;34m,\u001B[0m\u001B[0msep\u001B[0m\u001B[0;34m=\u001B[0m\u001B[0;34m'\\t'\u001B[0m\u001B[0;34m)\u001B[0m\u001B[0;34m\u001B[0m\u001B[0;34m\u001B[0m\u001B[0m\n\u001B[0m",
      "\u001B[0;32m~/PycharmProjects/hlathenav2/venv/lib/python3.7/site-packages/pandas/util/_decorators.py\u001B[0m in \u001B[0;36mwrapper\u001B[0;34m(*args, **kwargs)\u001B[0m\n\u001B[1;32m    309\u001B[0m                     \u001B[0mstacklevel\u001B[0m\u001B[0;34m=\u001B[0m\u001B[0mstacklevel\u001B[0m\u001B[0;34m,\u001B[0m\u001B[0;34m\u001B[0m\u001B[0;34m\u001B[0m\u001B[0m\n\u001B[1;32m    310\u001B[0m                 )\n\u001B[0;32m--> 311\u001B[0;31m             \u001B[0;32mreturn\u001B[0m \u001B[0mfunc\u001B[0m\u001B[0;34m(\u001B[0m\u001B[0;34m*\u001B[0m\u001B[0margs\u001B[0m\u001B[0;34m,\u001B[0m \u001B[0;34m**\u001B[0m\u001B[0mkwargs\u001B[0m\u001B[0;34m)\u001B[0m\u001B[0;34m\u001B[0m\u001B[0;34m\u001B[0m\u001B[0m\n\u001B[0m\u001B[1;32m    312\u001B[0m \u001B[0;34m\u001B[0m\u001B[0m\n\u001B[1;32m    313\u001B[0m         \u001B[0;32mreturn\u001B[0m \u001B[0mwrapper\u001B[0m\u001B[0;34m\u001B[0m\u001B[0;34m\u001B[0m\u001B[0m\n",
      "\u001B[0;32m~/PycharmProjects/hlathenav2/venv/lib/python3.7/site-packages/pandas/io/parsers/readers.py\u001B[0m in \u001B[0;36mread_table\u001B[0;34m(filepath_or_buffer, sep, delimiter, header, names, index_col, usecols, squeeze, prefix, mangle_dupe_cols, dtype, engine, converters, true_values, false_values, skipinitialspace, skiprows, skipfooter, nrows, na_values, keep_default_na, na_filter, verbose, skip_blank_lines, parse_dates, infer_datetime_format, keep_date_col, date_parser, dayfirst, cache_dates, iterator, chunksize, compression, thousands, decimal, lineterminator, quotechar, quoting, doublequote, escapechar, comment, encoding, dialect, error_bad_lines, warn_bad_lines, on_bad_lines, encoding_errors, delim_whitespace, low_memory, memory_map, float_precision)\u001B[0m\n\u001B[1;32m    681\u001B[0m     \u001B[0mkwds\u001B[0m\u001B[0;34m.\u001B[0m\u001B[0mupdate\u001B[0m\u001B[0;34m(\u001B[0m\u001B[0mkwds_defaults\u001B[0m\u001B[0;34m)\u001B[0m\u001B[0;34m\u001B[0m\u001B[0;34m\u001B[0m\u001B[0m\n\u001B[1;32m    682\u001B[0m \u001B[0;34m\u001B[0m\u001B[0m\n\u001B[0;32m--> 683\u001B[0;31m     \u001B[0;32mreturn\u001B[0m \u001B[0m_read\u001B[0m\u001B[0;34m(\u001B[0m\u001B[0mfilepath_or_buffer\u001B[0m\u001B[0;34m,\u001B[0m \u001B[0mkwds\u001B[0m\u001B[0;34m)\u001B[0m\u001B[0;34m\u001B[0m\u001B[0;34m\u001B[0m\u001B[0m\n\u001B[0m\u001B[1;32m    684\u001B[0m \u001B[0;34m\u001B[0m\u001B[0m\n\u001B[1;32m    685\u001B[0m \u001B[0;34m\u001B[0m\u001B[0m\n",
      "\u001B[0;32m~/PycharmProjects/hlathenav2/venv/lib/python3.7/site-packages/pandas/io/parsers/readers.py\u001B[0m in \u001B[0;36m_read\u001B[0;34m(filepath_or_buffer, kwds)\u001B[0m\n\u001B[1;32m    480\u001B[0m \u001B[0;34m\u001B[0m\u001B[0m\n\u001B[1;32m    481\u001B[0m     \u001B[0;31m# Create the parser.\u001B[0m\u001B[0;34m\u001B[0m\u001B[0;34m\u001B[0m\u001B[0;34m\u001B[0m\u001B[0m\n\u001B[0;32m--> 482\u001B[0;31m     \u001B[0mparser\u001B[0m \u001B[0;34m=\u001B[0m \u001B[0mTextFileReader\u001B[0m\u001B[0;34m(\u001B[0m\u001B[0mfilepath_or_buffer\u001B[0m\u001B[0;34m,\u001B[0m \u001B[0;34m**\u001B[0m\u001B[0mkwds\u001B[0m\u001B[0;34m)\u001B[0m\u001B[0;34m\u001B[0m\u001B[0;34m\u001B[0m\u001B[0m\n\u001B[0m\u001B[1;32m    483\u001B[0m \u001B[0;34m\u001B[0m\u001B[0m\n\u001B[1;32m    484\u001B[0m     \u001B[0;32mif\u001B[0m \u001B[0mchunksize\u001B[0m \u001B[0;32mor\u001B[0m \u001B[0miterator\u001B[0m\u001B[0;34m:\u001B[0m\u001B[0;34m\u001B[0m\u001B[0;34m\u001B[0m\u001B[0m\n",
      "\u001B[0;32m~/PycharmProjects/hlathenav2/venv/lib/python3.7/site-packages/pandas/io/parsers/readers.py\u001B[0m in \u001B[0;36m__init__\u001B[0;34m(self, f, engine, **kwds)\u001B[0m\n\u001B[1;32m    809\u001B[0m             \u001B[0mself\u001B[0m\u001B[0;34m.\u001B[0m\u001B[0moptions\u001B[0m\u001B[0;34m[\u001B[0m\u001B[0;34m\"has_index_names\"\u001B[0m\u001B[0;34m]\u001B[0m \u001B[0;34m=\u001B[0m \u001B[0mkwds\u001B[0m\u001B[0;34m[\u001B[0m\u001B[0;34m\"has_index_names\"\u001B[0m\u001B[0;34m]\u001B[0m\u001B[0;34m\u001B[0m\u001B[0;34m\u001B[0m\u001B[0m\n\u001B[1;32m    810\u001B[0m \u001B[0;34m\u001B[0m\u001B[0m\n\u001B[0;32m--> 811\u001B[0;31m         \u001B[0mself\u001B[0m\u001B[0;34m.\u001B[0m\u001B[0m_engine\u001B[0m \u001B[0;34m=\u001B[0m \u001B[0mself\u001B[0m\u001B[0;34m.\u001B[0m\u001B[0m_make_engine\u001B[0m\u001B[0;34m(\u001B[0m\u001B[0mself\u001B[0m\u001B[0;34m.\u001B[0m\u001B[0mengine\u001B[0m\u001B[0;34m)\u001B[0m\u001B[0;34m\u001B[0m\u001B[0;34m\u001B[0m\u001B[0m\n\u001B[0m\u001B[1;32m    812\u001B[0m \u001B[0;34m\u001B[0m\u001B[0m\n\u001B[1;32m    813\u001B[0m     \u001B[0;32mdef\u001B[0m \u001B[0mclose\u001B[0m\u001B[0;34m(\u001B[0m\u001B[0mself\u001B[0m\u001B[0;34m)\u001B[0m\u001B[0;34m:\u001B[0m\u001B[0;34m\u001B[0m\u001B[0;34m\u001B[0m\u001B[0m\n",
      "\u001B[0;32m~/PycharmProjects/hlathenav2/venv/lib/python3.7/site-packages/pandas/io/parsers/readers.py\u001B[0m in \u001B[0;36m_make_engine\u001B[0;34m(self, engine)\u001B[0m\n\u001B[1;32m   1038\u001B[0m             )\n\u001B[1;32m   1039\u001B[0m         \u001B[0;31m# error: Too many arguments for \"ParserBase\"\u001B[0m\u001B[0;34m\u001B[0m\u001B[0;34m\u001B[0m\u001B[0;34m\u001B[0m\u001B[0m\n\u001B[0;32m-> 1040\u001B[0;31m         \u001B[0;32mreturn\u001B[0m \u001B[0mmapping\u001B[0m\u001B[0;34m[\u001B[0m\u001B[0mengine\u001B[0m\u001B[0;34m]\u001B[0m\u001B[0;34m(\u001B[0m\u001B[0mself\u001B[0m\u001B[0;34m.\u001B[0m\u001B[0mf\u001B[0m\u001B[0;34m,\u001B[0m \u001B[0;34m**\u001B[0m\u001B[0mself\u001B[0m\u001B[0;34m.\u001B[0m\u001B[0moptions\u001B[0m\u001B[0;34m)\u001B[0m  \u001B[0;31m# type: ignore[call-arg]\u001B[0m\u001B[0;34m\u001B[0m\u001B[0;34m\u001B[0m\u001B[0m\n\u001B[0m\u001B[1;32m   1041\u001B[0m \u001B[0;34m\u001B[0m\u001B[0m\n\u001B[1;32m   1042\u001B[0m     \u001B[0;32mdef\u001B[0m \u001B[0m_failover_to_python\u001B[0m\u001B[0;34m(\u001B[0m\u001B[0mself\u001B[0m\u001B[0;34m)\u001B[0m\u001B[0;34m:\u001B[0m\u001B[0;34m\u001B[0m\u001B[0;34m\u001B[0m\u001B[0m\n",
      "\u001B[0;32m~/PycharmProjects/hlathenav2/venv/lib/python3.7/site-packages/pandas/io/parsers/c_parser_wrapper.py\u001B[0m in \u001B[0;36m__init__\u001B[0;34m(self, src, **kwds)\u001B[0m\n\u001B[1;32m     49\u001B[0m \u001B[0;34m\u001B[0m\u001B[0m\n\u001B[1;32m     50\u001B[0m         \u001B[0;31m# open handles\u001B[0m\u001B[0;34m\u001B[0m\u001B[0;34m\u001B[0m\u001B[0;34m\u001B[0m\u001B[0m\n\u001B[0;32m---> 51\u001B[0;31m         \u001B[0mself\u001B[0m\u001B[0;34m.\u001B[0m\u001B[0m_open_handles\u001B[0m\u001B[0;34m(\u001B[0m\u001B[0msrc\u001B[0m\u001B[0;34m,\u001B[0m \u001B[0mkwds\u001B[0m\u001B[0;34m)\u001B[0m\u001B[0;34m\u001B[0m\u001B[0;34m\u001B[0m\u001B[0m\n\u001B[0m\u001B[1;32m     52\u001B[0m         \u001B[0;32massert\u001B[0m \u001B[0mself\u001B[0m\u001B[0;34m.\u001B[0m\u001B[0mhandles\u001B[0m \u001B[0;32mis\u001B[0m \u001B[0;32mnot\u001B[0m \u001B[0;32mNone\u001B[0m\u001B[0;34m\u001B[0m\u001B[0;34m\u001B[0m\u001B[0m\n\u001B[1;32m     53\u001B[0m \u001B[0;34m\u001B[0m\u001B[0m\n",
      "\u001B[0;32m~/PycharmProjects/hlathenav2/venv/lib/python3.7/site-packages/pandas/io/parsers/base_parser.py\u001B[0m in \u001B[0;36m_open_handles\u001B[0;34m(self, src, kwds)\u001B[0m\n\u001B[1;32m    227\u001B[0m             \u001B[0mmemory_map\u001B[0m\u001B[0;34m=\u001B[0m\u001B[0mkwds\u001B[0m\u001B[0;34m.\u001B[0m\u001B[0mget\u001B[0m\u001B[0;34m(\u001B[0m\u001B[0;34m\"memory_map\"\u001B[0m\u001B[0;34m,\u001B[0m \u001B[0;32mFalse\u001B[0m\u001B[0;34m)\u001B[0m\u001B[0;34m,\u001B[0m\u001B[0;34m\u001B[0m\u001B[0;34m\u001B[0m\u001B[0m\n\u001B[1;32m    228\u001B[0m             \u001B[0mstorage_options\u001B[0m\u001B[0;34m=\u001B[0m\u001B[0mkwds\u001B[0m\u001B[0;34m.\u001B[0m\u001B[0mget\u001B[0m\u001B[0;34m(\u001B[0m\u001B[0;34m\"storage_options\"\u001B[0m\u001B[0;34m,\u001B[0m \u001B[0;32mNone\u001B[0m\u001B[0;34m)\u001B[0m\u001B[0;34m,\u001B[0m\u001B[0;34m\u001B[0m\u001B[0;34m\u001B[0m\u001B[0m\n\u001B[0;32m--> 229\u001B[0;31m             \u001B[0merrors\u001B[0m\u001B[0;34m=\u001B[0m\u001B[0mkwds\u001B[0m\u001B[0;34m.\u001B[0m\u001B[0mget\u001B[0m\u001B[0;34m(\u001B[0m\u001B[0;34m\"encoding_errors\"\u001B[0m\u001B[0;34m,\u001B[0m \u001B[0;34m\"strict\"\u001B[0m\u001B[0;34m)\u001B[0m\u001B[0;34m,\u001B[0m\u001B[0;34m\u001B[0m\u001B[0;34m\u001B[0m\u001B[0m\n\u001B[0m\u001B[1;32m    230\u001B[0m         )\n\u001B[1;32m    231\u001B[0m \u001B[0;34m\u001B[0m\u001B[0m\n",
      "\u001B[0;32m~/PycharmProjects/hlathenav2/venv/lib/python3.7/site-packages/pandas/io/common.py\u001B[0m in \u001B[0;36mget_handle\u001B[0;34m(path_or_buf, mode, encoding, compression, memory_map, is_text, errors, storage_options)\u001B[0m\n\u001B[1;32m    705\u001B[0m                 \u001B[0mencoding\u001B[0m\u001B[0;34m=\u001B[0m\u001B[0mioargs\u001B[0m\u001B[0;34m.\u001B[0m\u001B[0mencoding\u001B[0m\u001B[0;34m,\u001B[0m\u001B[0;34m\u001B[0m\u001B[0;34m\u001B[0m\u001B[0m\n\u001B[1;32m    706\u001B[0m                 \u001B[0merrors\u001B[0m\u001B[0;34m=\u001B[0m\u001B[0merrors\u001B[0m\u001B[0;34m,\u001B[0m\u001B[0;34m\u001B[0m\u001B[0;34m\u001B[0m\u001B[0m\n\u001B[0;32m--> 707\u001B[0;31m                 \u001B[0mnewline\u001B[0m\u001B[0;34m=\u001B[0m\u001B[0;34m\"\"\u001B[0m\u001B[0;34m,\u001B[0m\u001B[0;34m\u001B[0m\u001B[0;34m\u001B[0m\u001B[0m\n\u001B[0m\u001B[1;32m    708\u001B[0m             )\n\u001B[1;32m    709\u001B[0m         \u001B[0;32melse\u001B[0m\u001B[0;34m:\u001B[0m\u001B[0;34m\u001B[0m\u001B[0;34m\u001B[0m\u001B[0m\n",
      "\u001B[0;31mFileNotFoundError\u001B[0m: [Errno 2] No such file or directory: 'out/ABC_prot.aligned.182.txt'"
     ]
    }
   ],
   "source": [
    "df=pd.read_table('out/ABC_prot.aligned.182.txt',sep='\\t')"
   ]
  },
  {
   "cell_type": "code",
   "execution_count": 2,
   "id": "a373a1f6-63ca-431e-8df5-99dcaa2b2f00",
   "metadata": {
    "tags": [],
    "ExecuteTime": {
     "end_time": "2024-01-24T00:04:19.638855Z",
     "start_time": "2024-01-24T00:04:18.350682Z"
    }
   },
   "outputs": [],
   "source": [
    "ref = pd.read_table('../features/ABCG_prot.parsed.clean.SEQ.ME.ALL.FEATS.txt',sep=' ')#,usecols=['seq','allele'])"
   ]
  },
  {
   "cell_type": "code",
   "outputs": [
    {
     "data": {
      "text/plain": "                                                     seq allele_NQ allele  \\\n0      GSHSMRYFFTSVSRPGRGEPRFIAVGYVDDTQFVRFDSDAASQKME...     A0101  A0101   \n1      GSHSMRYFSTSVSRPGSGEPRFIAVGYVDDTQFVRFDSDAASQKME...     A0102  A0102   \n2      GSHSMRYFFTSVSRPGRGEPRFIAVGYVDDTQFVRFDSDAASQKME...     A0103  A0103   \n3      GSHSMRYFFTSVSRPGRGEPRFIAVGYVDDTQFVRFDSDAASQKME...     A0106  A0106   \n4      GSHSMRYFFTSVSRPGRGEPRFIAVGYVDDTQFVRFDSDAASQKME...     A0107  A0107   \n...                                                  ...       ...    ...   \n14556  CSHSMRYFYTAVSRPGRGEPRFISVGYVDDTQFVRFDSDAASPRGE...     C0399  C0399   \n14557  GSHSMRYFSAAVSRPGRGEPRFIAMGYVDDTQFVRFDSDSACPRME...     G0101  G0101   \n14558  GSHSMRYFSAAVSRPGRGEPRFIAMGYVDDSQFVRFDSDSACPRME...     G0103  G0103   \n14559  GSHSMRYFSAAVSRPGRGEPRFIAMGYVDDTQFVRFDSDSACPRME...     G0104  G0104   \n14560  GSHSMRYFSAAVFRPGRGEPRFIAMGYVDDTQFVRFDSDSACPRME...     G0107  G0107   \n\n       hla7_mw  hla7_ch  hla7_hy  hla7_KF1  hla7_KF2  hla7_KF3  hla7_KF4  ...  \\\n0        1.435  -0.0051  -0.2712      1.38      1.48       0.8     -0.56  ...   \n1        1.435  -0.0051  -0.2712      1.38      1.48       0.8     -0.56  ...   \n2        1.435  -0.0051  -0.2712      1.38      1.48       0.8     -0.56  ...   \n3        1.435  -0.0051  -0.2712      1.38      1.48       0.8     -0.56  ...   \n4        1.435  -0.0051  -0.2712      1.38      1.48       0.8     -0.56  ...   \n...        ...      ...      ...       ...       ...       ...       ...  ...   \n14556    1.435  -0.0051  -0.2712      1.38      1.48       0.8     -0.56  ...   \n14557    1.435  -0.0051  -0.2712      1.38      1.48       0.8     -0.56  ...   \n14558    1.435  -0.0051  -0.2712      1.38      1.48       0.8     -0.56  ...   \n14559    1.435  -0.0051  -0.2712      1.38      1.48       0.8     -0.56  ...   \n14560    1.435  -0.0051  -0.2712      1.38      1.48       0.8     -0.56  ...   \n\n       hla171_KF4  hla171_KF5  hla171_KF6  hla171_KF7  hla171_KF8  hla171_KF9  \\\n0           -0.56         0.0       -0.68       -0.31        1.03       -0.05   \n1           -0.56         0.0       -0.68       -0.31        1.03       -0.05   \n2           -0.56         0.0       -0.68       -0.31        1.03       -0.05   \n3           -0.56         0.0       -0.68       -0.31        1.03       -0.05   \n4           -0.56         0.0       -0.68       -0.31        1.03       -0.05   \n...           ...         ...         ...         ...         ...         ...   \n14556       -0.56         0.0       -0.68       -0.31        1.03       -0.05   \n14557       -0.56         0.0       -0.68       -0.31        1.03       -0.05   \n14558       -0.56         0.0       -0.68       -0.31        1.03       -0.05   \n14559       -0.56         0.0       -0.68       -0.31        1.03       -0.05   \n14560       -0.56         0.0       -0.68       -0.31        1.03       -0.05   \n\n       hla171_KF10  hla171_PC1  hla171_PC2  hla171_PC3  \n0             0.53        2.58       -2.06        0.37  \n1             0.53        2.58       -2.06        0.37  \n2             0.53        2.58       -2.06        0.37  \n3             0.53        2.58       -2.06        0.37  \n4             0.53        2.58       -2.06        0.37  \n...            ...         ...         ...         ...  \n14556         0.53        2.58       -2.06        0.37  \n14557         0.53        2.58       -2.06        0.37  \n14558         0.53        2.58       -2.06        0.37  \n14559         0.53        2.58       -2.06        0.37  \n14560         0.53        2.58       -2.06        0.37  \n\n[14561 rows x 643 columns]",
      "text/html": "<div>\n<style scoped>\n    .dataframe tbody tr th:only-of-type {\n        vertical-align: middle;\n    }\n\n    .dataframe tbody tr th {\n        vertical-align: top;\n    }\n\n    .dataframe thead th {\n        text-align: right;\n    }\n</style>\n<table border=\"1\" class=\"dataframe\">\n  <thead>\n    <tr style=\"text-align: right;\">\n      <th></th>\n      <th>seq</th>\n      <th>allele_NQ</th>\n      <th>allele</th>\n      <th>hla7_mw</th>\n      <th>hla7_ch</th>\n      <th>hla7_hy</th>\n      <th>hla7_KF1</th>\n      <th>hla7_KF2</th>\n      <th>hla7_KF3</th>\n      <th>hla7_KF4</th>\n      <th>...</th>\n      <th>hla171_KF4</th>\n      <th>hla171_KF5</th>\n      <th>hla171_KF6</th>\n      <th>hla171_KF7</th>\n      <th>hla171_KF8</th>\n      <th>hla171_KF9</th>\n      <th>hla171_KF10</th>\n      <th>hla171_PC1</th>\n      <th>hla171_PC2</th>\n      <th>hla171_PC3</th>\n    </tr>\n  </thead>\n  <tbody>\n    <tr>\n      <th>0</th>\n      <td>GSHSMRYFFTSVSRPGRGEPRFIAVGYVDDTQFVRFDSDAASQKME...</td>\n      <td>A0101</td>\n      <td>A0101</td>\n      <td>1.435</td>\n      <td>-0.0051</td>\n      <td>-0.2712</td>\n      <td>1.38</td>\n      <td>1.48</td>\n      <td>0.8</td>\n      <td>-0.56</td>\n      <td>...</td>\n      <td>-0.56</td>\n      <td>0.0</td>\n      <td>-0.68</td>\n      <td>-0.31</td>\n      <td>1.03</td>\n      <td>-0.05</td>\n      <td>0.53</td>\n      <td>2.58</td>\n      <td>-2.06</td>\n      <td>0.37</td>\n    </tr>\n    <tr>\n      <th>1</th>\n      <td>GSHSMRYFSTSVSRPGSGEPRFIAVGYVDDTQFVRFDSDAASQKME...</td>\n      <td>A0102</td>\n      <td>A0102</td>\n      <td>1.435</td>\n      <td>-0.0051</td>\n      <td>-0.2712</td>\n      <td>1.38</td>\n      <td>1.48</td>\n      <td>0.8</td>\n      <td>-0.56</td>\n      <td>...</td>\n      <td>-0.56</td>\n      <td>0.0</td>\n      <td>-0.68</td>\n      <td>-0.31</td>\n      <td>1.03</td>\n      <td>-0.05</td>\n      <td>0.53</td>\n      <td>2.58</td>\n      <td>-2.06</td>\n      <td>0.37</td>\n    </tr>\n    <tr>\n      <th>2</th>\n      <td>GSHSMRYFFTSVSRPGRGEPRFIAVGYVDDTQFVRFDSDAASQKME...</td>\n      <td>A0103</td>\n      <td>A0103</td>\n      <td>1.435</td>\n      <td>-0.0051</td>\n      <td>-0.2712</td>\n      <td>1.38</td>\n      <td>1.48</td>\n      <td>0.8</td>\n      <td>-0.56</td>\n      <td>...</td>\n      <td>-0.56</td>\n      <td>0.0</td>\n      <td>-0.68</td>\n      <td>-0.31</td>\n      <td>1.03</td>\n      <td>-0.05</td>\n      <td>0.53</td>\n      <td>2.58</td>\n      <td>-2.06</td>\n      <td>0.37</td>\n    </tr>\n    <tr>\n      <th>3</th>\n      <td>GSHSMRYFFTSVSRPGRGEPRFIAVGYVDDTQFVRFDSDAASQKME...</td>\n      <td>A0106</td>\n      <td>A0106</td>\n      <td>1.435</td>\n      <td>-0.0051</td>\n      <td>-0.2712</td>\n      <td>1.38</td>\n      <td>1.48</td>\n      <td>0.8</td>\n      <td>-0.56</td>\n      <td>...</td>\n      <td>-0.56</td>\n      <td>0.0</td>\n      <td>-0.68</td>\n      <td>-0.31</td>\n      <td>1.03</td>\n      <td>-0.05</td>\n      <td>0.53</td>\n      <td>2.58</td>\n      <td>-2.06</td>\n      <td>0.37</td>\n    </tr>\n    <tr>\n      <th>4</th>\n      <td>GSHSMRYFFTSVSRPGRGEPRFIAVGYVDDTQFVRFDSDAASQKME...</td>\n      <td>A0107</td>\n      <td>A0107</td>\n      <td>1.435</td>\n      <td>-0.0051</td>\n      <td>-0.2712</td>\n      <td>1.38</td>\n      <td>1.48</td>\n      <td>0.8</td>\n      <td>-0.56</td>\n      <td>...</td>\n      <td>-0.56</td>\n      <td>0.0</td>\n      <td>-0.68</td>\n      <td>-0.31</td>\n      <td>1.03</td>\n      <td>-0.05</td>\n      <td>0.53</td>\n      <td>2.58</td>\n      <td>-2.06</td>\n      <td>0.37</td>\n    </tr>\n    <tr>\n      <th>...</th>\n      <td>...</td>\n      <td>...</td>\n      <td>...</td>\n      <td>...</td>\n      <td>...</td>\n      <td>...</td>\n      <td>...</td>\n      <td>...</td>\n      <td>...</td>\n      <td>...</td>\n      <td>...</td>\n      <td>...</td>\n      <td>...</td>\n      <td>...</td>\n      <td>...</td>\n      <td>...</td>\n      <td>...</td>\n      <td>...</td>\n      <td>...</td>\n      <td>...</td>\n      <td>...</td>\n    </tr>\n    <tr>\n      <th>14556</th>\n      <td>CSHSMRYFYTAVSRPGRGEPRFISVGYVDDTQFVRFDSDAASPRGE...</td>\n      <td>C0399</td>\n      <td>C0399</td>\n      <td>1.435</td>\n      <td>-0.0051</td>\n      <td>-0.2712</td>\n      <td>1.38</td>\n      <td>1.48</td>\n      <td>0.8</td>\n      <td>-0.56</td>\n      <td>...</td>\n      <td>-0.56</td>\n      <td>0.0</td>\n      <td>-0.68</td>\n      <td>-0.31</td>\n      <td>1.03</td>\n      <td>-0.05</td>\n      <td>0.53</td>\n      <td>2.58</td>\n      <td>-2.06</td>\n      <td>0.37</td>\n    </tr>\n    <tr>\n      <th>14557</th>\n      <td>GSHSMRYFSAAVSRPGRGEPRFIAMGYVDDTQFVRFDSDSACPRME...</td>\n      <td>G0101</td>\n      <td>G0101</td>\n      <td>1.435</td>\n      <td>-0.0051</td>\n      <td>-0.2712</td>\n      <td>1.38</td>\n      <td>1.48</td>\n      <td>0.8</td>\n      <td>-0.56</td>\n      <td>...</td>\n      <td>-0.56</td>\n      <td>0.0</td>\n      <td>-0.68</td>\n      <td>-0.31</td>\n      <td>1.03</td>\n      <td>-0.05</td>\n      <td>0.53</td>\n      <td>2.58</td>\n      <td>-2.06</td>\n      <td>0.37</td>\n    </tr>\n    <tr>\n      <th>14558</th>\n      <td>GSHSMRYFSAAVSRPGRGEPRFIAMGYVDDSQFVRFDSDSACPRME...</td>\n      <td>G0103</td>\n      <td>G0103</td>\n      <td>1.435</td>\n      <td>-0.0051</td>\n      <td>-0.2712</td>\n      <td>1.38</td>\n      <td>1.48</td>\n      <td>0.8</td>\n      <td>-0.56</td>\n      <td>...</td>\n      <td>-0.56</td>\n      <td>0.0</td>\n      <td>-0.68</td>\n      <td>-0.31</td>\n      <td>1.03</td>\n      <td>-0.05</td>\n      <td>0.53</td>\n      <td>2.58</td>\n      <td>-2.06</td>\n      <td>0.37</td>\n    </tr>\n    <tr>\n      <th>14559</th>\n      <td>GSHSMRYFSAAVSRPGRGEPRFIAMGYVDDTQFVRFDSDSACPRME...</td>\n      <td>G0104</td>\n      <td>G0104</td>\n      <td>1.435</td>\n      <td>-0.0051</td>\n      <td>-0.2712</td>\n      <td>1.38</td>\n      <td>1.48</td>\n      <td>0.8</td>\n      <td>-0.56</td>\n      <td>...</td>\n      <td>-0.56</td>\n      <td>0.0</td>\n      <td>-0.68</td>\n      <td>-0.31</td>\n      <td>1.03</td>\n      <td>-0.05</td>\n      <td>0.53</td>\n      <td>2.58</td>\n      <td>-2.06</td>\n      <td>0.37</td>\n    </tr>\n    <tr>\n      <th>14560</th>\n      <td>GSHSMRYFSAAVFRPGRGEPRFIAMGYVDDTQFVRFDSDSACPRME...</td>\n      <td>G0107</td>\n      <td>G0107</td>\n      <td>1.435</td>\n      <td>-0.0051</td>\n      <td>-0.2712</td>\n      <td>1.38</td>\n      <td>1.48</td>\n      <td>0.8</td>\n      <td>-0.56</td>\n      <td>...</td>\n      <td>-0.56</td>\n      <td>0.0</td>\n      <td>-0.68</td>\n      <td>-0.31</td>\n      <td>1.03</td>\n      <td>-0.05</td>\n      <td>0.53</td>\n      <td>2.58</td>\n      <td>-2.06</td>\n      <td>0.37</td>\n    </tr>\n  </tbody>\n</table>\n<p>14561 rows × 643 columns</p>\n</div>"
     },
     "execution_count": 3,
     "metadata": {},
     "output_type": "execute_result"
    }
   ],
   "source": [
    "ref"
   ],
   "metadata": {
    "collapsed": false,
    "ExecuteTime": {
     "end_time": "2024-01-24T00:04:25.168974Z",
     "start_time": "2024-01-24T00:04:25.127774Z"
    }
   },
   "id": "3e0c81dc82287852",
   "execution_count": 3
  },
  {
   "cell_type": "code",
   "outputs": [],
   "source": [
    "ref['mhc'] = ref['allele']"
   ],
   "metadata": {
    "collapsed": false,
    "ExecuteTime": {
     "end_time": "2023-12-28T23:49:58.615481Z",
     "start_time": "2023-12-28T23:49:58.599420Z"
    }
   },
   "id": "e99c8ea5dea11164",
   "execution_count": 30
  },
  {
   "cell_type": "code",
   "outputs": [],
   "source": [
    "cols = ['mhc'] + [c for c in list(ref.columns) if ('KF' in c) or ('PC' in c)]"
   ],
   "metadata": {
    "collapsed": false,
    "ExecuteTime": {
     "end_time": "2023-12-28T23:50:02.416760Z",
     "start_time": "2023-12-28T23:50:02.399234Z"
    }
   },
   "id": "b6ac527d0fbd3710",
   "execution_count": 31
  },
  {
   "cell_type": "code",
   "outputs": [],
   "source": [
    "ref_csv = ref[cols]\n",
    "ref_csv.to_csv('../../hlathena/data/hla_seqs_PC3_KF10_clean.csv',index=False)"
   ],
   "metadata": {
    "collapsed": false,
    "ExecuteTime": {
     "end_time": "2023-12-28T23:50:08.673857Z",
     "start_time": "2023-12-28T23:50:04.438813Z"
    }
   },
   "id": "cc64eb4966cb0648",
   "execution_count": 32
  },
  {
   "cell_type": "code",
   "outputs": [
    {
     "data": {
      "text/plain": "        mhc  7_F  7_L  7_S  9_A  9_I  9_N  9_P  9_S  9_T  ...  163_W  163_Y  \\\n0     A0101  1.0  0.0  0.0  0.0  0.0  0.0  0.0  0.0  1.0  ...    0.0    0.0   \n1     A0102  1.0  0.0  0.0  0.0  0.0  0.0  0.0  0.0  1.0  ...    0.0    0.0   \n2     A0103  1.0  0.0  0.0  0.0  0.0  0.0  0.0  0.0  1.0  ...    0.0    0.0   \n3     A0106  1.0  0.0  0.0  0.0  0.0  0.0  0.0  0.0  1.0  ...    0.0    0.0   \n4     A0109  1.0  0.0  0.0  0.0  0.0  0.0  0.0  0.0  1.0  ...    0.0    0.0   \n...     ...  ...  ...  ...  ...  ...  ...  ...  ...  ...  ...    ...    ...   \n2451  C1810  1.0  0.0  0.0  0.0  0.0  0.0  0.0  0.0  1.0  ...    0.0    0.0   \n2452  G0101  1.0  0.0  0.0  1.0  0.0  0.0  0.0  0.0  0.0  ...    0.0    0.0   \n2453  G0103  1.0  0.0  0.0  1.0  0.0  0.0  0.0  0.0  0.0  ...    0.0    0.0   \n2454  G0104  1.0  0.0  0.0  1.0  0.0  0.0  0.0  0.0  0.0  ...    0.0    0.0   \n2455  G0107  1.0  0.0  0.0  1.0  0.0  0.0  0.0  0.0  0.0  ...    0.0    0.0   \n\n      167_F  167_I  167_L  167_P  171_L  171_M  171_Q  171_R  \n0       0.0    0.0    1.0    0.0    1.0    0.0    0.0    0.0  \n1       0.0    0.0    1.0    0.0    1.0    0.0    0.0    0.0  \n2       0.0    0.0    1.0    0.0    1.0    0.0    0.0    0.0  \n3       0.0    0.0    1.0    0.0    1.0    0.0    0.0    0.0  \n4       0.0    0.0    1.0    0.0    1.0    0.0    0.0    0.0  \n...     ...    ...    ...    ...    ...    ...    ...    ...  \n2451    0.0    0.0    1.0    0.0    1.0    0.0    0.0    0.0  \n2452    0.0    0.0    1.0    0.0    1.0    0.0    0.0    0.0  \n2453    0.0    0.0    1.0    0.0    1.0    0.0    0.0    0.0  \n2454    0.0    0.0    1.0    0.0    1.0    0.0    0.0    0.0  \n2455    0.0    0.0    1.0    0.0    1.0    0.0    0.0    0.0  \n\n[2456 rows x 206 columns]",
      "text/html": "<div>\n<style scoped>\n    .dataframe tbody tr th:only-of-type {\n        vertical-align: middle;\n    }\n\n    .dataframe tbody tr th {\n        vertical-align: top;\n    }\n\n    .dataframe thead th {\n        text-align: right;\n    }\n</style>\n<table border=\"1\" class=\"dataframe\">\n  <thead>\n    <tr style=\"text-align: right;\">\n      <th></th>\n      <th>mhc</th>\n      <th>7_F</th>\n      <th>7_L</th>\n      <th>7_S</th>\n      <th>9_A</th>\n      <th>9_I</th>\n      <th>9_N</th>\n      <th>9_P</th>\n      <th>9_S</th>\n      <th>9_T</th>\n      <th>...</th>\n      <th>163_W</th>\n      <th>163_Y</th>\n      <th>167_F</th>\n      <th>167_I</th>\n      <th>167_L</th>\n      <th>167_P</th>\n      <th>171_L</th>\n      <th>171_M</th>\n      <th>171_Q</th>\n      <th>171_R</th>\n    </tr>\n  </thead>\n  <tbody>\n    <tr>\n      <th>0</th>\n      <td>A0101</td>\n      <td>1.0</td>\n      <td>0.0</td>\n      <td>0.0</td>\n      <td>0.0</td>\n      <td>0.0</td>\n      <td>0.0</td>\n      <td>0.0</td>\n      <td>0.0</td>\n      <td>1.0</td>\n      <td>...</td>\n      <td>0.0</td>\n      <td>0.0</td>\n      <td>0.0</td>\n      <td>0.0</td>\n      <td>1.0</td>\n      <td>0.0</td>\n      <td>1.0</td>\n      <td>0.0</td>\n      <td>0.0</td>\n      <td>0.0</td>\n    </tr>\n    <tr>\n      <th>1</th>\n      <td>A0102</td>\n      <td>1.0</td>\n      <td>0.0</td>\n      <td>0.0</td>\n      <td>0.0</td>\n      <td>0.0</td>\n      <td>0.0</td>\n      <td>0.0</td>\n      <td>0.0</td>\n      <td>1.0</td>\n      <td>...</td>\n      <td>0.0</td>\n      <td>0.0</td>\n      <td>0.0</td>\n      <td>0.0</td>\n      <td>1.0</td>\n      <td>0.0</td>\n      <td>1.0</td>\n      <td>0.0</td>\n      <td>0.0</td>\n      <td>0.0</td>\n    </tr>\n    <tr>\n      <th>2</th>\n      <td>A0103</td>\n      <td>1.0</td>\n      <td>0.0</td>\n      <td>0.0</td>\n      <td>0.0</td>\n      <td>0.0</td>\n      <td>0.0</td>\n      <td>0.0</td>\n      <td>0.0</td>\n      <td>1.0</td>\n      <td>...</td>\n      <td>0.0</td>\n      <td>0.0</td>\n      <td>0.0</td>\n      <td>0.0</td>\n      <td>1.0</td>\n      <td>0.0</td>\n      <td>1.0</td>\n      <td>0.0</td>\n      <td>0.0</td>\n      <td>0.0</td>\n    </tr>\n    <tr>\n      <th>3</th>\n      <td>A0106</td>\n      <td>1.0</td>\n      <td>0.0</td>\n      <td>0.0</td>\n      <td>0.0</td>\n      <td>0.0</td>\n      <td>0.0</td>\n      <td>0.0</td>\n      <td>0.0</td>\n      <td>1.0</td>\n      <td>...</td>\n      <td>0.0</td>\n      <td>0.0</td>\n      <td>0.0</td>\n      <td>0.0</td>\n      <td>1.0</td>\n      <td>0.0</td>\n      <td>1.0</td>\n      <td>0.0</td>\n      <td>0.0</td>\n      <td>0.0</td>\n    </tr>\n    <tr>\n      <th>4</th>\n      <td>A0109</td>\n      <td>1.0</td>\n      <td>0.0</td>\n      <td>0.0</td>\n      <td>0.0</td>\n      <td>0.0</td>\n      <td>0.0</td>\n      <td>0.0</td>\n      <td>0.0</td>\n      <td>1.0</td>\n      <td>...</td>\n      <td>0.0</td>\n      <td>0.0</td>\n      <td>0.0</td>\n      <td>0.0</td>\n      <td>1.0</td>\n      <td>0.0</td>\n      <td>1.0</td>\n      <td>0.0</td>\n      <td>0.0</td>\n      <td>0.0</td>\n    </tr>\n    <tr>\n      <th>...</th>\n      <td>...</td>\n      <td>...</td>\n      <td>...</td>\n      <td>...</td>\n      <td>...</td>\n      <td>...</td>\n      <td>...</td>\n      <td>...</td>\n      <td>...</td>\n      <td>...</td>\n      <td>...</td>\n      <td>...</td>\n      <td>...</td>\n      <td>...</td>\n      <td>...</td>\n      <td>...</td>\n      <td>...</td>\n      <td>...</td>\n      <td>...</td>\n      <td>...</td>\n      <td>...</td>\n    </tr>\n    <tr>\n      <th>2451</th>\n      <td>C1810</td>\n      <td>1.0</td>\n      <td>0.0</td>\n      <td>0.0</td>\n      <td>0.0</td>\n      <td>0.0</td>\n      <td>0.0</td>\n      <td>0.0</td>\n      <td>0.0</td>\n      <td>1.0</td>\n      <td>...</td>\n      <td>0.0</td>\n      <td>0.0</td>\n      <td>0.0</td>\n      <td>0.0</td>\n      <td>1.0</td>\n      <td>0.0</td>\n      <td>1.0</td>\n      <td>0.0</td>\n      <td>0.0</td>\n      <td>0.0</td>\n    </tr>\n    <tr>\n      <th>2452</th>\n      <td>G0101</td>\n      <td>1.0</td>\n      <td>0.0</td>\n      <td>0.0</td>\n      <td>1.0</td>\n      <td>0.0</td>\n      <td>0.0</td>\n      <td>0.0</td>\n      <td>0.0</td>\n      <td>0.0</td>\n      <td>...</td>\n      <td>0.0</td>\n      <td>0.0</td>\n      <td>0.0</td>\n      <td>0.0</td>\n      <td>1.0</td>\n      <td>0.0</td>\n      <td>1.0</td>\n      <td>0.0</td>\n      <td>0.0</td>\n      <td>0.0</td>\n    </tr>\n    <tr>\n      <th>2453</th>\n      <td>G0103</td>\n      <td>1.0</td>\n      <td>0.0</td>\n      <td>0.0</td>\n      <td>1.0</td>\n      <td>0.0</td>\n      <td>0.0</td>\n      <td>0.0</td>\n      <td>0.0</td>\n      <td>0.0</td>\n      <td>...</td>\n      <td>0.0</td>\n      <td>0.0</td>\n      <td>0.0</td>\n      <td>0.0</td>\n      <td>1.0</td>\n      <td>0.0</td>\n      <td>1.0</td>\n      <td>0.0</td>\n      <td>0.0</td>\n      <td>0.0</td>\n    </tr>\n    <tr>\n      <th>2454</th>\n      <td>G0104</td>\n      <td>1.0</td>\n      <td>0.0</td>\n      <td>0.0</td>\n      <td>1.0</td>\n      <td>0.0</td>\n      <td>0.0</td>\n      <td>0.0</td>\n      <td>0.0</td>\n      <td>0.0</td>\n      <td>...</td>\n      <td>0.0</td>\n      <td>0.0</td>\n      <td>0.0</td>\n      <td>0.0</td>\n      <td>1.0</td>\n      <td>0.0</td>\n      <td>1.0</td>\n      <td>0.0</td>\n      <td>0.0</td>\n      <td>0.0</td>\n    </tr>\n    <tr>\n      <th>2455</th>\n      <td>G0107</td>\n      <td>1.0</td>\n      <td>0.0</td>\n      <td>0.0</td>\n      <td>1.0</td>\n      <td>0.0</td>\n      <td>0.0</td>\n      <td>0.0</td>\n      <td>0.0</td>\n      <td>0.0</td>\n      <td>...</td>\n      <td>0.0</td>\n      <td>0.0</td>\n      <td>0.0</td>\n      <td>0.0</td>\n      <td>1.0</td>\n      <td>0.0</td>\n      <td>1.0</td>\n      <td>0.0</td>\n      <td>0.0</td>\n      <td>0.0</td>\n    </tr>\n  </tbody>\n</table>\n<p>2456 rows × 206 columns</p>\n</div>"
     },
     "execution_count": 22,
     "metadata": {},
     "output_type": "execute_result"
    }
   ],
   "source": [
    "hla_encoding = pd.read_csv('../../hlathena/data/hla_seqs_onehot_clean.csv', index_col=0)\n",
    "hla_encoding"
   ],
   "metadata": {
    "collapsed": false,
    "ExecuteTime": {
     "end_time": "2023-12-28T23:45:38.041751Z",
     "start_time": "2023-12-28T23:45:37.955082Z"
    }
   },
   "id": "fdbb5d5c1c760508",
   "execution_count": 22
  },
  {
   "cell_type": "code",
   "outputs": [
    {
     "data": {
      "text/plain": "41"
     },
     "execution_count": 23,
     "metadata": {},
     "output_type": "execute_result"
    }
   ],
   "source": [
    "len(set([p.split('_')[0] for p in list(hla_encoding.columns)]))"
   ],
   "metadata": {
    "collapsed": false,
    "ExecuteTime": {
     "end_time": "2023-12-28T23:45:53.480856Z",
     "start_time": "2023-12-28T23:45:53.469562Z"
    }
   },
   "id": "ef3fec944b135751",
   "execution_count": 23
  },
  {
   "cell_type": "code",
   "execution_count": 17,
   "id": "b9d205fc-b800-439b-922b-aaabf5fde6ee",
   "metadata": {
    "tags": []
   },
   "outputs": [],
   "source": [
    "df_dict = {}\n",
    "for i,r in df.iterrows():\n",
    "    df_dict[r.allele] = r.seq\n",
    "    \n",
    "ref_dict = {}\n",
    "for i,r in ref.iterrows():\n",
    "    ref_dict[r.allele] = r.seq"
   ]
  },
  {
   "cell_type": "code",
   "execution_count": 30,
   "id": "da90d0dc-fcee-4c01-80e0-222bfd912c73",
   "metadata": {
    "tags": []
   },
   "outputs": [
    {
     "name": "stdout",
     "output_type": "stream",
     "text": [
      "A01208Q in df_dict\n",
      "A02728Q in df_dict\n",
      "A11170Q in df_dict\n",
      "A30101Q in df_dict\n",
      "A32101Q in df_dict\n",
      "A68148Q in df_dict\n",
      "B51173Q in df_dict\n",
      "C0323\n",
      "C0399\n",
      "C07226Q in df_dict\n",
      "C07513Q in df_dict\n",
      "C08141Q in df_dict\n",
      "C12139Q in df_dict\n",
      "C12155Q in df_dict\n",
      "G0101\n",
      "G0103\n",
      "G0104\n",
      "G0107\n"
     ]
    }
   ],
   "source": [
    "known, unknown = [], []\n",
    "\n",
    "for i,r in ref.iterrows():\n",
    "    \n",
    "    if r.allele in df_dict:\n",
    "        \n",
    "        # if r.seq != df_dict[r.allele]:\n",
    "        #     print(r.allele)\n",
    "        known.append(r.allele)\n",
    "    elif r.allele+'Q' in df_dict:\n",
    "        print(f\"{r.allele}Q in df_dict\")\n",
    "    elif r.allele+'N' in df_dict:\n",
    "        print(f\"{r.allele}N in df_dict\")\n",
    "    else:\n",
    "        print(r.allele)\n",
    "        unknown.append(r.allele)\n",
    "            \n",
    "    # else:\n",
    "        # print(r.allele)\n"
   ]
  },
  {
   "cell_type": "code",
   "execution_count": 41,
   "id": "53405a4e-2557-428f-a8aa-6ca061094eb0",
   "metadata": {},
   "outputs": [],
   "source": [
    "def featurize_hla_alleles(hla_df):#, hla_features_df):\n",
    "    HLA_pocket_positions = [7, 9, 13, 24, 31, 45, 59, 62, 63, 65, 66, 67, 69,\n",
    "                 70, 71, 73, 74, 76, 77, 80, 81, 84, 95, 97, 99, \n",
    "                 110, 114, 116, 118, 138, 143, 147, 150, 152, 156,\n",
    "                 158, 159, 163, 167, 171]\n",
    "\n",
    "    AApropsSimple = pd.read_table(\"references/AAProps_simple.txt\", sep=\" \", index_col=0) # see: hla_protein_parse_fasta.R\n",
    "    AApropsKF = pd.read_table(\"references/AApropsKF.txt\", sep=\" \", index_col=0)\n",
    "    AApropsPCA = pd.read_table(\"references/AAProps_PC.tsv\", sep=\"\\t\", index_col=0)\n",
    "\n",
    "    AApropsSimple.index.name = AApropsPCA.index.name = AApropsKF.index.name = \"AA\"\n",
    "    props = AApropsSimple.merge(AApropsKF, on='AA').merge(AApropsPCA, on='AA')\n",
    "\n",
    "    feature_cols = [(\"hla\" + str(posn) + \"_\" + col) for posn in HLA_pocket_positions for col in props.columns]\n",
    "    cols = [\"seq\", \"allele\"] + feature_cols\n",
    "\n",
    "    new_features = []\n",
    "    for row in hla_df.itertuples():\n",
    "        allele_features = featurize_hla(row.seq, row.allele, props, HLA_pocket_positions)\n",
    "        # find most similar allele sequence\n",
    "#         dist_matrix = distance_matrix([allele_features], hla_features_df[feature_cols])\n",
    "#         min_distance_idx = pd.DataFrame(dist_matrix).idxmin(axis=\"columns\").iloc[0]\n",
    "#         most_similar_allele = hla_features_df.iloc[min_distance_idx][\"allele\"]\n",
    "#         print(\"Novel allele %s is most similar to known allele %s\" % (row.allele, most_similar_allele))\n",
    "\n",
    "#         allele_name = \"_\".join([most_similar_allele, row.allele])\n",
    "        allele_name = row.allele # not adding most similar allele\n",
    "    \n",
    "        allele_features = [row.seq, allele_name] + allele_features\n",
    "        new_features.append(allele_features)\n",
    "    return pd.DataFrame(new_features, columns=cols, index=None)\n",
    "\n",
    "\n",
    "def featurize_hla(seq, allele, props, HLA_pocket_positions):\n",
    "    seq_list = [list(seq)[i-1] for i in HLA_pocket_positions]\n",
    "    featurized = []\n",
    "    for aa in seq_list:\n",
    "        featurized += props.T[aa].tolist()\n",
    "    return featurized"
   ]
  },
  {
   "cell_type": "code",
   "execution_count": 43,
   "id": "0639818a-b7e6-496c-8536-3009bd49bd2a",
   "metadata": {
    "tags": []
   },
   "outputs": [],
   "source": [
    "feat_df = featurize_hla_alleles(df)"
   ]
  },
  {
   "cell_type": "code",
   "execution_count": 44,
   "id": "f5dfde01-c76f-4542-aac9-5ffefd090ed5",
   "metadata": {
    "tags": []
   },
   "outputs": [
    {
     "data": {
      "text/html": [
       "<div>\n",
       "<style scoped>\n",
       "    .dataframe tbody tr th:only-of-type {\n",
       "        vertical-align: middle;\n",
       "    }\n",
       "\n",
       "    .dataframe tbody tr th {\n",
       "        vertical-align: top;\n",
       "    }\n",
       "\n",
       "    .dataframe thead th {\n",
       "        text-align: right;\n",
       "    }\n",
       "</style>\n",
       "<table border=\"1\" class=\"dataframe\">\n",
       "  <thead>\n",
       "    <tr style=\"text-align: right;\">\n",
       "      <th></th>\n",
       "      <th>seq</th>\n",
       "      <th>allele</th>\n",
       "      <th>hla7_mw</th>\n",
       "      <th>hla7_ch</th>\n",
       "      <th>hla7_hy</th>\n",
       "      <th>hla7_KF1</th>\n",
       "      <th>hla7_KF2</th>\n",
       "      <th>hla7_KF3</th>\n",
       "      <th>hla7_KF4</th>\n",
       "      <th>hla7_KF5</th>\n",
       "      <th>...</th>\n",
       "      <th>hla171_KF4</th>\n",
       "      <th>hla171_KF5</th>\n",
       "      <th>hla171_KF6</th>\n",
       "      <th>hla171_KF7</th>\n",
       "      <th>hla171_KF8</th>\n",
       "      <th>hla171_KF9</th>\n",
       "      <th>hla171_KF10</th>\n",
       "      <th>hla171_PC1</th>\n",
       "      <th>hla171_PC2</th>\n",
       "      <th>hla171_PC3</th>\n",
       "    </tr>\n",
       "  </thead>\n",
       "  <tbody>\n",
       "    <tr>\n",
       "      <th>0</th>\n",
       "      <td>GSHSMRYFFTSVSRPGRGEPRFIAVGYVDDTQFVRFDSDAASQKME...</td>\n",
       "      <td>A0101</td>\n",
       "      <td>1.435</td>\n",
       "      <td>-0.0051</td>\n",
       "      <td>-0.2712</td>\n",
       "      <td>1.38</td>\n",
       "      <td>1.48</td>\n",
       "      <td>0.8</td>\n",
       "      <td>-0.56</td>\n",
       "      <td>0.0</td>\n",
       "      <td>...</td>\n",
       "      <td>-0.56</td>\n",
       "      <td>0.0</td>\n",
       "      <td>-0.68</td>\n",
       "      <td>-0.31</td>\n",
       "      <td>1.03</td>\n",
       "      <td>-0.05</td>\n",
       "      <td>0.53</td>\n",
       "      <td>2.58</td>\n",
       "      <td>-2.06</td>\n",
       "      <td>0.37</td>\n",
       "    </tr>\n",
       "    <tr>\n",
       "      <th>1</th>\n",
       "      <td>GSHSMRYFSTSVSRPGSGEPRFIAVGYVDDTQFVRFDSDAASQKME...</td>\n",
       "      <td>A0102</td>\n",
       "      <td>1.435</td>\n",
       "      <td>-0.0051</td>\n",
       "      <td>-0.2712</td>\n",
       "      <td>1.38</td>\n",
       "      <td>1.48</td>\n",
       "      <td>0.8</td>\n",
       "      <td>-0.56</td>\n",
       "      <td>0.0</td>\n",
       "      <td>...</td>\n",
       "      <td>-0.56</td>\n",
       "      <td>0.0</td>\n",
       "      <td>-0.68</td>\n",
       "      <td>-0.31</td>\n",
       "      <td>1.03</td>\n",
       "      <td>-0.05</td>\n",
       "      <td>0.53</td>\n",
       "      <td>2.58</td>\n",
       "      <td>-2.06</td>\n",
       "      <td>0.37</td>\n",
       "    </tr>\n",
       "    <tr>\n",
       "      <th>2</th>\n",
       "      <td>GSHSMRYFFTSVSRPGRGEPRFIAVGYVDDTQFVRFDSDAASQKME...</td>\n",
       "      <td>A0103</td>\n",
       "      <td>1.435</td>\n",
       "      <td>-0.0051</td>\n",
       "      <td>-0.2712</td>\n",
       "      <td>1.38</td>\n",
       "      <td>1.48</td>\n",
       "      <td>0.8</td>\n",
       "      <td>-0.56</td>\n",
       "      <td>0.0</td>\n",
       "      <td>...</td>\n",
       "      <td>-0.56</td>\n",
       "      <td>0.0</td>\n",
       "      <td>-0.68</td>\n",
       "      <td>-0.31</td>\n",
       "      <td>1.03</td>\n",
       "      <td>-0.05</td>\n",
       "      <td>0.53</td>\n",
       "      <td>2.58</td>\n",
       "      <td>-2.06</td>\n",
       "      <td>0.37</td>\n",
       "    </tr>\n",
       "    <tr>\n",
       "      <th>3</th>\n",
       "      <td>GSHSMRYFFTSVSRPGRGEPRFIAVGYVDDTQFVRFDSDAASQKME...</td>\n",
       "      <td>A0106</td>\n",
       "      <td>1.435</td>\n",
       "      <td>-0.0051</td>\n",
       "      <td>-0.2712</td>\n",
       "      <td>1.38</td>\n",
       "      <td>1.48</td>\n",
       "      <td>0.8</td>\n",
       "      <td>-0.56</td>\n",
       "      <td>0.0</td>\n",
       "      <td>...</td>\n",
       "      <td>-0.56</td>\n",
       "      <td>0.0</td>\n",
       "      <td>-0.68</td>\n",
       "      <td>-0.31</td>\n",
       "      <td>1.03</td>\n",
       "      <td>-0.05</td>\n",
       "      <td>0.53</td>\n",
       "      <td>2.58</td>\n",
       "      <td>-2.06</td>\n",
       "      <td>0.37</td>\n",
       "    </tr>\n",
       "    <tr>\n",
       "      <th>4</th>\n",
       "      <td>GSHSMRYFFTSVSRPGRGEPRFIAVGYVDDTQFVRFDSDAASQKME...</td>\n",
       "      <td>A0107</td>\n",
       "      <td>1.435</td>\n",
       "      <td>-0.0051</td>\n",
       "      <td>-0.2712</td>\n",
       "      <td>1.38</td>\n",
       "      <td>1.48</td>\n",
       "      <td>0.8</td>\n",
       "      <td>-0.56</td>\n",
       "      <td>0.0</td>\n",
       "      <td>...</td>\n",
       "      <td>-0.56</td>\n",
       "      <td>0.0</td>\n",
       "      <td>-0.68</td>\n",
       "      <td>-0.31</td>\n",
       "      <td>1.03</td>\n",
       "      <td>-0.05</td>\n",
       "      <td>0.53</td>\n",
       "      <td>2.58</td>\n",
       "      <td>-2.06</td>\n",
       "      <td>0.37</td>\n",
       "    </tr>\n",
       "    <tr>\n",
       "      <th>...</th>\n",
       "      <td>...</td>\n",
       "      <td>...</td>\n",
       "      <td>...</td>\n",
       "      <td>...</td>\n",
       "      <td>...</td>\n",
       "      <td>...</td>\n",
       "      <td>...</td>\n",
       "      <td>...</td>\n",
       "      <td>...</td>\n",
       "      <td>...</td>\n",
       "      <td>...</td>\n",
       "      <td>...</td>\n",
       "      <td>...</td>\n",
       "      <td>...</td>\n",
       "      <td>...</td>\n",
       "      <td>...</td>\n",
       "      <td>...</td>\n",
       "      <td>...</td>\n",
       "      <td>...</td>\n",
       "      <td>...</td>\n",
       "      <td>...</td>\n",
       "    </tr>\n",
       "    <tr>\n",
       "      <th>14551</th>\n",
       "      <td>CSHSMRYFDTAVSRPGRGEPRFISVGYVDDTQFVRFDSDAASPRGE...</td>\n",
       "      <td>C1815</td>\n",
       "      <td>1.435</td>\n",
       "      <td>-0.0051</td>\n",
       "      <td>-0.2712</td>\n",
       "      <td>1.38</td>\n",
       "      <td>1.48</td>\n",
       "      <td>0.8</td>\n",
       "      <td>-0.56</td>\n",
       "      <td>0.0</td>\n",
       "      <td>...</td>\n",
       "      <td>-0.56</td>\n",
       "      <td>0.0</td>\n",
       "      <td>-0.68</td>\n",
       "      <td>-0.31</td>\n",
       "      <td>1.03</td>\n",
       "      <td>-0.05</td>\n",
       "      <td>0.53</td>\n",
       "      <td>2.58</td>\n",
       "      <td>-2.06</td>\n",
       "      <td>0.37</td>\n",
       "    </tr>\n",
       "    <tr>\n",
       "      <th>14552</th>\n",
       "      <td>CSHSMRYFDTAVSRPGRGEPRFISVGYVDDTQFVRFDSDAASPRGE...</td>\n",
       "      <td>C1816</td>\n",
       "      <td>1.435</td>\n",
       "      <td>-0.0051</td>\n",
       "      <td>-0.2712</td>\n",
       "      <td>1.38</td>\n",
       "      <td>1.48</td>\n",
       "      <td>0.8</td>\n",
       "      <td>-0.56</td>\n",
       "      <td>0.0</td>\n",
       "      <td>...</td>\n",
       "      <td>-0.56</td>\n",
       "      <td>0.0</td>\n",
       "      <td>-0.68</td>\n",
       "      <td>-0.31</td>\n",
       "      <td>1.03</td>\n",
       "      <td>-0.05</td>\n",
       "      <td>0.53</td>\n",
       "      <td>2.58</td>\n",
       "      <td>-2.06</td>\n",
       "      <td>0.37</td>\n",
       "    </tr>\n",
       "    <tr>\n",
       "      <th>14553</th>\n",
       "      <td>CSHSMRYCDTAVSRPGRGEPRFISVGYVDDTQFVRFDSDAASPRGE...</td>\n",
       "      <td>C1817</td>\n",
       "      <td>1.435</td>\n",
       "      <td>-0.0051</td>\n",
       "      <td>-0.2712</td>\n",
       "      <td>1.38</td>\n",
       "      <td>1.48</td>\n",
       "      <td>0.8</td>\n",
       "      <td>-0.56</td>\n",
       "      <td>0.0</td>\n",
       "      <td>...</td>\n",
       "      <td>-0.56</td>\n",
       "      <td>0.0</td>\n",
       "      <td>-0.68</td>\n",
       "      <td>-0.31</td>\n",
       "      <td>1.03</td>\n",
       "      <td>-0.05</td>\n",
       "      <td>0.53</td>\n",
       "      <td>2.58</td>\n",
       "      <td>-2.06</td>\n",
       "      <td>0.37</td>\n",
       "    </tr>\n",
       "    <tr>\n",
       "      <th>14554</th>\n",
       "      <td>CSHSMRYFDTAVSRPGRGEPRFISVGYVDDTQFVRFDSDAASPRGE...</td>\n",
       "      <td>C1818</td>\n",
       "      <td>1.435</td>\n",
       "      <td>-0.0051</td>\n",
       "      <td>-0.2712</td>\n",
       "      <td>1.38</td>\n",
       "      <td>1.48</td>\n",
       "      <td>0.8</td>\n",
       "      <td>-0.56</td>\n",
       "      <td>0.0</td>\n",
       "      <td>...</td>\n",
       "      <td>-0.56</td>\n",
       "      <td>0.0</td>\n",
       "      <td>-0.68</td>\n",
       "      <td>-0.31</td>\n",
       "      <td>1.03</td>\n",
       "      <td>-0.05</td>\n",
       "      <td>0.53</td>\n",
       "      <td>2.58</td>\n",
       "      <td>-2.06</td>\n",
       "      <td>0.37</td>\n",
       "    </tr>\n",
       "    <tr>\n",
       "      <th>14555</th>\n",
       "      <td>CSHSMRYFDTAVSRPGRGEPRFISVGYVDDTQFVRFDSDAASPRGE...</td>\n",
       "      <td>C1819</td>\n",
       "      <td>1.435</td>\n",
       "      <td>-0.0051</td>\n",
       "      <td>-0.2712</td>\n",
       "      <td>1.38</td>\n",
       "      <td>1.48</td>\n",
       "      <td>0.8</td>\n",
       "      <td>-0.56</td>\n",
       "      <td>0.0</td>\n",
       "      <td>...</td>\n",
       "      <td>-0.56</td>\n",
       "      <td>0.0</td>\n",
       "      <td>-0.68</td>\n",
       "      <td>-0.31</td>\n",
       "      <td>1.03</td>\n",
       "      <td>-0.05</td>\n",
       "      <td>0.53</td>\n",
       "      <td>2.58</td>\n",
       "      <td>-2.06</td>\n",
       "      <td>0.37</td>\n",
       "    </tr>\n",
       "  </tbody>\n",
       "</table>\n",
       "<p>14556 rows × 642 columns</p>\n",
       "</div>"
      ],
      "text/plain": [
       "                                                     seq allele  hla7_mw  \\\n",
       "0      GSHSMRYFFTSVSRPGRGEPRFIAVGYVDDTQFVRFDSDAASQKME...  A0101    1.435   \n",
       "1      GSHSMRYFSTSVSRPGSGEPRFIAVGYVDDTQFVRFDSDAASQKME...  A0102    1.435   \n",
       "2      GSHSMRYFFTSVSRPGRGEPRFIAVGYVDDTQFVRFDSDAASQKME...  A0103    1.435   \n",
       "3      GSHSMRYFFTSVSRPGRGEPRFIAVGYVDDTQFVRFDSDAASQKME...  A0106    1.435   \n",
       "4      GSHSMRYFFTSVSRPGRGEPRFIAVGYVDDTQFVRFDSDAASQKME...  A0107    1.435   \n",
       "...                                                  ...    ...      ...   \n",
       "14551  CSHSMRYFDTAVSRPGRGEPRFISVGYVDDTQFVRFDSDAASPRGE...  C1815    1.435   \n",
       "14552  CSHSMRYFDTAVSRPGRGEPRFISVGYVDDTQFVRFDSDAASPRGE...  C1816    1.435   \n",
       "14553  CSHSMRYCDTAVSRPGRGEPRFISVGYVDDTQFVRFDSDAASPRGE...  C1817    1.435   \n",
       "14554  CSHSMRYFDTAVSRPGRGEPRFISVGYVDDTQFVRFDSDAASPRGE...  C1818    1.435   \n",
       "14555  CSHSMRYFDTAVSRPGRGEPRFISVGYVDDTQFVRFDSDAASPRGE...  C1819    1.435   \n",
       "\n",
       "       hla7_ch  hla7_hy  hla7_KF1  hla7_KF2  hla7_KF3  hla7_KF4  hla7_KF5  \\\n",
       "0      -0.0051  -0.2712      1.38      1.48       0.8     -0.56       0.0   \n",
       "1      -0.0051  -0.2712      1.38      1.48       0.8     -0.56       0.0   \n",
       "2      -0.0051  -0.2712      1.38      1.48       0.8     -0.56       0.0   \n",
       "3      -0.0051  -0.2712      1.38      1.48       0.8     -0.56       0.0   \n",
       "4      -0.0051  -0.2712      1.38      1.48       0.8     -0.56       0.0   \n",
       "...        ...      ...       ...       ...       ...       ...       ...   \n",
       "14551  -0.0051  -0.2712      1.38      1.48       0.8     -0.56       0.0   \n",
       "14552  -0.0051  -0.2712      1.38      1.48       0.8     -0.56       0.0   \n",
       "14553  -0.0051  -0.2712      1.38      1.48       0.8     -0.56       0.0   \n",
       "14554  -0.0051  -0.2712      1.38      1.48       0.8     -0.56       0.0   \n",
       "14555  -0.0051  -0.2712      1.38      1.48       0.8     -0.56       0.0   \n",
       "\n",
       "       ...  hla171_KF4  hla171_KF5  hla171_KF6  hla171_KF7  hla171_KF8  \\\n",
       "0      ...       -0.56         0.0       -0.68       -0.31        1.03   \n",
       "1      ...       -0.56         0.0       -0.68       -0.31        1.03   \n",
       "2      ...       -0.56         0.0       -0.68       -0.31        1.03   \n",
       "3      ...       -0.56         0.0       -0.68       -0.31        1.03   \n",
       "4      ...       -0.56         0.0       -0.68       -0.31        1.03   \n",
       "...    ...         ...         ...         ...         ...         ...   \n",
       "14551  ...       -0.56         0.0       -0.68       -0.31        1.03   \n",
       "14552  ...       -0.56         0.0       -0.68       -0.31        1.03   \n",
       "14553  ...       -0.56         0.0       -0.68       -0.31        1.03   \n",
       "14554  ...       -0.56         0.0       -0.68       -0.31        1.03   \n",
       "14555  ...       -0.56         0.0       -0.68       -0.31        1.03   \n",
       "\n",
       "       hla171_KF9  hla171_KF10  hla171_PC1  hla171_PC2  hla171_PC3  \n",
       "0           -0.05         0.53        2.58       -2.06        0.37  \n",
       "1           -0.05         0.53        2.58       -2.06        0.37  \n",
       "2           -0.05         0.53        2.58       -2.06        0.37  \n",
       "3           -0.05         0.53        2.58       -2.06        0.37  \n",
       "4           -0.05         0.53        2.58       -2.06        0.37  \n",
       "...           ...          ...         ...         ...         ...  \n",
       "14551       -0.05         0.53        2.58       -2.06        0.37  \n",
       "14552       -0.05         0.53        2.58       -2.06        0.37  \n",
       "14553       -0.05         0.53        2.58       -2.06        0.37  \n",
       "14554       -0.05         0.53        2.58       -2.06        0.37  \n",
       "14555       -0.05         0.53        2.58       -2.06        0.37  \n",
       "\n",
       "[14556 rows x 642 columns]"
      ]
     },
     "execution_count": 44,
     "metadata": {},
     "output_type": "execute_result"
    }
   ],
   "source": [
    "feat_df"
   ]
  },
  {
   "cell_type": "code",
   "execution_count": 49,
   "id": "f19169a1-101d-4941-b66d-75080f57dca8",
   "metadata": {
    "tags": []
   },
   "outputs": [],
   "source": [
    "missing_alleles = ['G0101','G0103','G0104','G0107','C0399']\n",
    "missing_alleles_df = ref.loc[ref['allele'].isin(missing_alleles)]"
   ]
  },
  {
   "cell_type": "code",
   "execution_count": 53,
   "id": "5d10b455-4dd4-4c7b-b7ad-c36ea18826aa",
   "metadata": {
    "tags": []
   },
   "outputs": [],
   "source": [
    "all_alleles_feat = pd.concat([feat_df,missing_alleles_df])"
   ]
  },
  {
   "cell_type": "code",
   "execution_count": 55,
   "id": "33d8038f-fa2f-46eb-a80a-c5c8decb4ec4",
   "metadata": {
    "tags": []
   },
   "outputs": [],
   "source": [
    "all_alleles_feat.to_csv('out/ABCG_prot.parsed.clean.updated.ALL.FEATS.txt',sep=' ',index=None)"
   ]
  },
  {
   "cell_type": "markdown",
   "id": "a5ba2d95-b02b-4539-951c-8335097a3f00",
   "metadata": {},
   "source": [
    "adding back alleles that are in the old file but not the new:\n",
    "* G0101\n",
    "* G0103\n",
    "* G0104\n",
    "* G0107\n",
    "* C0399"
   ]
  },
  {
   "cell_type": "code",
   "execution_count": null,
   "id": "e81cd879-b692-4676-a22f-9e6eb308f233",
   "metadata": {},
   "outputs": [],
   "source": []
  }
 ],
 "metadata": {
  "kernelspec": {
   "display_name": "Python 3 (ipykernel)",
   "language": "python",
   "name": "python3"
  },
  "language_info": {
   "codemirror_mode": {
    "name": "ipython",
    "version": 3
   },
   "file_extension": ".py",
   "mimetype": "text/x-python",
   "name": "python",
   "nbconvert_exporter": "python",
   "pygments_lexer": "ipython3",
   "version": "3.7.4"
  }
 },
 "nbformat": 4,
 "nbformat_minor": 5
}
